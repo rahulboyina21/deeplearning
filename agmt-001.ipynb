{
 "cells": [
  {
   "cell_type": "code",
   "execution_count": 1,
   "id": "83b61957",
   "metadata": {
    "_cell_guid": "b1076dfc-b9ad-4769-8c92-a6c4dae69d19",
    "_uuid": "8f2839f25d086af736a60e9eeb907d3b93b6e0e5",
    "execution": {
     "iopub.execute_input": "2025-02-18T04:06:50.354992Z",
     "iopub.status.busy": "2025-02-18T04:06:50.354597Z",
     "iopub.status.idle": "2025-02-18T04:06:50.363518Z",
     "shell.execute_reply": "2025-02-18T04:06:50.362313Z"
    },
    "papermill": {
     "duration": 0.015433,
     "end_time": "2025-02-18T04:06:50.365207",
     "exception": false,
     "start_time": "2025-02-18T04:06:50.349774",
     "status": "completed"
    },
    "tags": []
   },
   "outputs": [
    {
     "data": {
      "text/plain": [
       "'\\n1.\\tTensor Manipulations & Reshaping\\nTask: Tensor Reshaping & Operations\\n1.\\tCreate a random tensor of shape (4, 6).\\n2.\\tFind its rank and shape using TensorFlow functions.\\n3.\\tReshape it into (2, 3, 4) and transpose it to (3, 2, 4).\\n4.\\tBroadcast a smaller tensor (1, 4) to match the larger tensor and add them.\\n5.\\tExplain how broadcasting works in TensorFlow.\\nExpected Output: \\n•\\tPrint rank and shape of the tensor before and after reshaping/transposing.\\n'"
      ]
     },
     "execution_count": 1,
     "metadata": {},
     "output_type": "execute_result"
    }
   ],
   "source": [
    "'''\n",
    "1.\tTensor Manipulations & Reshaping\n",
    "Task: Tensor Reshaping & Operations\n",
    "1.\tCreate a random tensor of shape (4, 6).\n",
    "2.\tFind its rank and shape using TensorFlow functions.\n",
    "3.\tReshape it into (2, 3, 4) and transpose it to (3, 2, 4).\n",
    "4.\tBroadcast a smaller tensor (1, 4) to match the larger tensor and add them.\n",
    "5.\tExplain how broadcasting works in TensorFlow.\n",
    "Expected Output: \n",
    "•\tPrint rank and shape of the tensor before and after reshaping/transposing.\n",
    "'''"
   ]
  },
  {
   "cell_type": "code",
   "execution_count": 2,
   "id": "080ab405",
   "metadata": {
    "execution": {
     "iopub.execute_input": "2025-02-18T04:06:50.373359Z",
     "iopub.status.busy": "2025-02-18T04:06:50.372946Z",
     "iopub.status.idle": "2025-02-18T04:07:06.856894Z",
     "shell.execute_reply": "2025-02-18T04:07:06.855641Z"
    },
    "papermill": {
     "duration": 16.490091,
     "end_time": "2025-02-18T04:07:06.859012",
     "exception": false,
     "start_time": "2025-02-18T04:06:50.368921",
     "status": "completed"
    },
    "tags": []
   },
   "outputs": [],
   "source": [
    "import tensorflow as tf"
   ]
  },
  {
   "cell_type": "code",
   "execution_count": 3,
   "id": "fa6e3eed",
   "metadata": {
    "execution": {
     "iopub.execute_input": "2025-02-18T04:07:06.867359Z",
     "iopub.status.busy": "2025-02-18T04:07:06.866687Z",
     "iopub.status.idle": "2025-02-18T04:07:06.938977Z",
     "shell.execute_reply": "2025-02-18T04:07:06.937643Z"
    },
    "papermill": {
     "duration": 0.078565,
     "end_time": "2025-02-18T04:07:06.940969",
     "exception": false,
     "start_time": "2025-02-18T04:07:06.862404",
     "status": "completed"
    },
    "tags": []
   },
   "outputs": [
    {
     "name": "stdout",
     "output_type": "stream",
     "text": [
      "Variable \n",
      " <tf.Variable 'Variable:0' shape=(4, 6) dtype=int32, numpy=\n",
      "array([[ 1,  2,  3,  4,  5,  6],\n",
      "       [ 7,  8,  9, 10, 11, 12],\n",
      "       [13, 14, 15, 16, 17, 18],\n",
      "       [19, 20, 21, 22, 23, 24]], dtype=int32)>\n",
      "Rank =  tf.Tensor(2, shape=(), dtype=int32)  ,Shape =  (4, 6)\n",
      "Before Reshap =  <tf.Variable 'Variable:0' shape=(4, 6) dtype=int32, numpy=\n",
      "array([[ 1,  2,  3,  4,  5,  6],\n",
      "       [ 7,  8,  9, 10, 11, 12],\n",
      "       [13, 14, 15, 16, 17, 18],\n",
      "       [19, 20, 21, 22, 23, 24]], dtype=int32)>\n",
      "After Reshape =  tf.Tensor(\n",
      "[[[ 1  2  3  4]\n",
      "  [ 5  6  7  8]\n",
      "  [ 9 10 11 12]]\n",
      "\n",
      " [[13 14 15 16]\n",
      "  [17 18 19 20]\n",
      "  [21 22 23 24]]], shape=(2, 3, 4), dtype=int32)\n",
      "Before Transposed =  tf.Tensor(\n",
      "[[[ 1  2  3  4]\n",
      "  [ 5  6  7  8]\n",
      "  [ 9 10 11 12]]\n",
      "\n",
      " [[13 14 15 16]\n",
      "  [17 18 19 20]\n",
      "  [21 22 23 24]]], shape=(2, 3, 4), dtype=int32)\n",
      "After Transposed =  tf.Tensor(\n",
      "[[[ 1  2  3  4]\n",
      "  [13 14 15 16]]\n",
      "\n",
      " [[ 5  6  7  8]\n",
      "  [17 18 19 20]]\n",
      "\n",
      " [[ 9 10 11 12]\n",
      "  [21 22 23 24]]], shape=(3, 2, 4), dtype=int32)\n",
      "Broadcasting =  tf.Tensor(\n",
      "[[[101 101 101 101]\n",
      "  [113 113 113 113]]\n",
      "\n",
      " [[105 105 105 105]\n",
      "  [117 117 117 117]]\n",
      "\n",
      " [[109 109 109 109]\n",
      "  [121 121 121 121]]], shape=(3, 2, 4), dtype=int32)\n"
     ]
    }
   ],
   "source": [
    "#1.\tCreate a random tensor of shape (4, 6).\n",
    "val = tf.Variable([[1,2,3,4,5,6],[7,8,9,10,11,12],[13,14,15,16,17,18],[19,20,21,22,23,24]])\n",
    "print(\"Variable \\n\",val)\n",
    "'''\n",
    "That's how we create the varibale tensors we should also give dtype but i am \n",
    "not giving it as code is capable of hadling by it's own considering the type of data\n",
    "'''\n",
    "#2.Find its rank and shape using TensorFlow functions.\n",
    "rk = tf.rank(val)\n",
    "'''\n",
    "Rank = number of dimensions of the tensor\n",
    "'''\n",
    "sp=val.shape\n",
    "# shape = number of elements in each dimension \n",
    "\n",
    "print(\"Rank = \",rk,\" ,Shape = \",sp)\n",
    "\n",
    "#3. Reshape it into (2, 3, 4) and transpose it to (3, 2, 4).\n",
    "print(\"Before Reshap = \",val)\n",
    "val=tf.reshape(val,(2,3,4))\n",
    "print(\"After Reshape = \",val)\n",
    "\n",
    "print(\"Before Transposed = \",val)\n",
    "val=tf.transpose(val,perm=[1, 0, 2])\n",
    "print(\"After Transposed = \",val)\n",
    "\n",
    "#4.\tBroadcast a smaller tensor (1, 4) to match the larger tensor and add them.\n",
    "\n",
    "val2=tf.constant([100,99,98,97])\n",
    "\n",
    "valans=tf.add(val,val2)\n",
    "\n",
    "print(\"Broadcasting = \",valans)\n",
    "\n"
   ]
  },
  {
   "cell_type": "code",
   "execution_count": 4,
   "id": "e55e80a7",
   "metadata": {
    "execution": {
     "iopub.execute_input": "2025-02-18T04:07:06.949224Z",
     "iopub.status.busy": "2025-02-18T04:07:06.948824Z",
     "iopub.status.idle": "2025-02-18T04:07:06.954843Z",
     "shell.execute_reply": "2025-02-18T04:07:06.953796Z"
    },
    "papermill": {
     "duration": 0.012012,
     "end_time": "2025-02-18T04:07:06.956521",
     "exception": false,
     "start_time": "2025-02-18T04:07:06.944509",
     "status": "completed"
    },
    "tags": []
   },
   "outputs": [
    {
     "data": {
      "text/plain": [
       "'\\nIt helps the tensor flow to do any arthamethic opertions of different dimensions \\nto perfrom with one another without the need to create a new copy all together and \\nadjust the shape thus saving resources and complexity to reduce or expand the tensors \\nto perfrom the operations.\\n\\n'"
      ]
     },
     "execution_count": 4,
     "metadata": {},
     "output_type": "execute_result"
    }
   ],
   "source": [
    "#Explain how broadcasting works in TensorFlow.\n",
    "'''\n",
    "It helps the tensor flow to do any arthamethic opertions of different dimensions \n",
    "to perfrom with one another without the need to create a new copy all together and \n",
    "adjust the shape thus saving resources and complexity to reduce or expand the tensors \n",
    "to perfrom the operations.\n",
    "\n",
    "'''"
   ]
  },
  {
   "cell_type": "code",
   "execution_count": 5,
   "id": "61944858",
   "metadata": {
    "execution": {
     "iopub.execute_input": "2025-02-18T04:07:06.965282Z",
     "iopub.status.busy": "2025-02-18T04:07:06.964827Z",
     "iopub.status.idle": "2025-02-18T04:07:06.972152Z",
     "shell.execute_reply": "2025-02-18T04:07:06.970668Z"
    },
    "papermill": {
     "duration": 0.014104,
     "end_time": "2025-02-18T04:07:06.974173",
     "exception": false,
     "start_time": "2025-02-18T04:07:06.960069",
     "status": "completed"
    },
    "tags": []
   },
   "outputs": [
    {
     "data": {
      "text/plain": [
       "'\\n\\n        2.\\tLoss Functions & Hyperparameter Tuning\\n        Task: Implement and Compare Loss Functions\\n        1.\\tDefine true values (y_true) and model predictions (y_pred).\\n        2.\\tCompute Mean Squared Error (MSE) and Categorical Cross-Entropy (CCE) losses.\\n        3.\\tModify predictions slightly and check how loss values change.\\n        4.\\tPlot loss function values using Matplotlib.\\n        Expected Output:\\n        •\\tLoss values printed for different predictions.\\n        •\\tBar chart comparing MSE and Cross-Entropy Loss.\\n\\n'"
      ]
     },
     "execution_count": 5,
     "metadata": {},
     "output_type": "execute_result"
    }
   ],
   "source": [
    "'''\n",
    "\n",
    "        2.\tLoss Functions & Hyperparameter Tuning\n",
    "        Task: Implement and Compare Loss Functions\n",
    "        1.\tDefine true values (y_true) and model predictions (y_pred).\n",
    "        2.\tCompute Mean Squared Error (MSE) and Categorical Cross-Entropy (CCE) losses.\n",
    "        3.\tModify predictions slightly and check how loss values change.\n",
    "        4.\tPlot loss function values using Matplotlib.\n",
    "        Expected Output:\n",
    "        •\tLoss values printed for different predictions.\n",
    "        •\tBar chart comparing MSE and Cross-Entropy Loss.\n",
    "\n",
    "'''"
   ]
  },
  {
   "cell_type": "code",
   "execution_count": 6,
   "id": "9a99e4db",
   "metadata": {
    "execution": {
     "iopub.execute_input": "2025-02-18T04:07:06.984006Z",
     "iopub.status.busy": "2025-02-18T04:07:06.983519Z",
     "iopub.status.idle": "2025-02-18T04:07:08.732954Z",
     "shell.execute_reply": "2025-02-18T04:07:08.731768Z"
    },
    "papermill": {
     "duration": 1.756587,
     "end_time": "2025-02-18T04:07:08.734787",
     "exception": false,
     "start_time": "2025-02-18T04:07:06.978200",
     "status": "completed"
    },
    "tags": []
   },
   "outputs": [
    {
     "name": "stdout",
     "output_type": "stream",
     "text": [
      "0.11666666666666668 0.6299999999999999\n",
      "tf.Tensor(6.070675, shape=(), dtype=float32) tf.Tensor(6.1777725, shape=(), dtype=float32)\n"
     ]
    },
    {
     "data": {
      "image/png": "[encoded data removed]",
      "text/plain": [
       "<Figure size 1000x1000 with 1 Axes>"
      ]
     },
     "metadata": {},
     "output_type": "display_data"
    }
   ],
   "source": [
    "import numpy as np\n",
    "import tensorflow as tf\n",
    "from tensorflow.keras.losses import CategoricalCrossentropy\n",
    "from sklearn.metrics import mean_squared_error as mse\n",
    "import matplotlib.pyplot as plt\n",
    "\n",
    "# Let's create the data \n",
    "\n",
    "y_true=np.array([1,2,3])\n",
    "\n",
    "y_pred1=np.array([0.9,1.7,2.5])\n",
    "\n",
    "y_pred2=np.array([0.5,1.0,2.2])\n",
    "\n",
    "mse1=mse(y_true,y_pred1)\n",
    "\n",
    "mse2=mse(y_true,y_pred2)\n",
    "\n",
    "print(mse1,mse2)\n",
    "\n",
    "t1=tf.constant(y_true)\n",
    "t2=tf.constant(y_pred1)\n",
    "t3=tf.constant(y_pred2)\n",
    "\n",
    "cce = CategoricalCrossentropy()\n",
    "\n",
    "cce1=cce(t1,t2)\n",
    "cce2=cce(t1,t3)\n",
    "\n",
    "print(cce1,cce2)\n",
    "\n",
    "# Plot Loss Function Values\n",
    "labels = ['MSE - y_pred1', 'MSE - y_pred2', 'CCE - y_pred1', 'CCE - y_pred2']\n",
    "loss_values = [mse1, mse2, cce1, cce2]\n",
    "\n",
    "plt.figure(figsize=(10, 10))\n",
    "plt.bar(labels, loss_values, color=['blue', 'cyan', 'red', 'orange'])\n",
    "plt.xlabel(\"Loss Types\")\n",
    "plt.ylabel(\"Loss Value\")\n",
    "plt.title(\"Comparison of MSE and Cross-Entropy Loss\")\n",
    "plt.show()\n",
    "\n",
    "\n"
   ]
  },
  {
   "cell_type": "code",
   "execution_count": 7,
   "id": "99050371",
   "metadata": {
    "execution": {
     "iopub.execute_input": "2025-02-18T04:07:08.745209Z",
     "iopub.status.busy": "2025-02-18T04:07:08.744539Z",
     "iopub.status.idle": "2025-02-18T04:08:45.334162Z",
     "shell.execute_reply": "2025-02-18T04:08:45.333051Z"
    },
    "papermill": {
     "duration": 96.596799,
     "end_time": "2025-02-18T04:08:45.335977",
     "exception": false,
     "start_time": "2025-02-18T04:07:08.739178",
     "status": "completed"
    },
    "tags": []
   },
   "outputs": [
    {
     "name": "stdout",
     "output_type": "stream",
     "text": [
      "Downloading data from https://storage.googleapis.com/tensorflow/tf-keras-datasets/mnist.npz\n",
      "\u001b[1m11490434/11490434\u001b[0m \u001b[32m━━━━━━━━━━━━━━━━━━━━\u001b[0m\u001b[37m\u001b[0m \u001b[1m2s\u001b[0m 0us/step\n"
     ]
    },
    {
     "name": "stderr",
     "output_type": "stream",
     "text": [
      "/usr/local/lib/python3.10/dist-packages/keras/src/layers/reshaping/flatten.py:37: UserWarning: Do not pass an `input_shape`/`input_dim` argument to a layer. When using Sequential models, prefer using an `Input(shape)` object as the first layer in the model instead.\n",
      "  super().__init__(**kwargs)\n"
     ]
    },
    {
     "name": "stdout",
     "output_type": "stream",
     "text": [
      "Epoch 1/10\n",
      "\u001b[1m1875/1875\u001b[0m \u001b[32m━━━━━━━━━━━━━━━━━━━━\u001b[0m\u001b[37m\u001b[0m \u001b[1m7s\u001b[0m 3ms/step - accuracy: 0.8819 - loss: 0.4236 - val_accuracy: 0.9595 - val_loss: 0.1429\n",
      "Epoch 2/10\n",
      "\u001b[1m1875/1875\u001b[0m \u001b[32m━━━━━━━━━━━━━━━━━━━━\u001b[0m\u001b[37m\u001b[0m \u001b[1m5s\u001b[0m 3ms/step - accuracy: 0.9657 - loss: 0.1183 - val_accuracy: 0.9678 - val_loss: 0.1018\n",
      "Epoch 3/10\n",
      "\u001b[1m1875/1875\u001b[0m \u001b[32m━━━━━━━━━━━━━━━━━━━━\u001b[0m\u001b[37m\u001b[0m \u001b[1m5s\u001b[0m 3ms/step - accuracy: 0.9777 - loss: 0.0772 - val_accuracy: 0.9696 - val_loss: 0.0970\n",
      "Epoch 4/10\n",
      "\u001b[1m1875/1875\u001b[0m \u001b[32m━━━━━━━━━━━━━━━━━━━━\u001b[0m\u001b[37m\u001b[0m \u001b[1m5s\u001b[0m 3ms/step - accuracy: 0.9824 - loss: 0.0573 - val_accuracy: 0.9751 - val_loss: 0.0803\n",
      "Epoch 5/10\n",
      "\u001b[1m1875/1875\u001b[0m \u001b[32m━━━━━━━━━━━━━━━━━━━━\u001b[0m\u001b[37m\u001b[0m \u001b[1m5s\u001b[0m 3ms/step - accuracy: 0.9868 - loss: 0.0417 - val_accuracy: 0.9763 - val_loss: 0.0790\n",
      "Epoch 6/10\n",
      "\u001b[1m1875/1875\u001b[0m \u001b[32m━━━━━━━━━━━━━━━━━━━━\u001b[0m\u001b[37m\u001b[0m \u001b[1m5s\u001b[0m 3ms/step - accuracy: 0.9898 - loss: 0.0330 - val_accuracy: 0.9765 - val_loss: 0.0749\n",
      "Epoch 7/10\n",
      "\u001b[1m1875/1875\u001b[0m \u001b[32m━━━━━━━━━━━━━━━━━━━━\u001b[0m\u001b[37m\u001b[0m \u001b[1m5s\u001b[0m 3ms/step - accuracy: 0.9924 - loss: 0.0251 - val_accuracy: 0.9769 - val_loss: 0.0794\n",
      "Epoch 8/10\n",
      "\u001b[1m1875/1875\u001b[0m \u001b[32m━━━━━━━━━━━━━━━━━━━━\u001b[0m\u001b[37m\u001b[0m \u001b[1m5s\u001b[0m 3ms/step - accuracy: 0.9932 - loss: 0.0230 - val_accuracy: 0.9818 - val_loss: 0.0688\n",
      "Epoch 9/10\n",
      "\u001b[1m1875/1875\u001b[0m \u001b[32m━━━━━━━━━━━━━━━━━━━━\u001b[0m\u001b[37m\u001b[0m \u001b[1m5s\u001b[0m 3ms/step - accuracy: 0.9946 - loss: 0.0185 - val_accuracy: 0.9795 - val_loss: 0.0735\n",
      "Epoch 10/10\n",
      "\u001b[1m1875/1875\u001b[0m \u001b[32m━━━━━━━━━━━━━━━━━━━━\u001b[0m\u001b[37m\u001b[0m \u001b[1m5s\u001b[0m 3ms/step - accuracy: 0.9953 - loss: 0.0148 - val_accuracy: 0.9770 - val_loss: 0.0897\n",
      "Epoch 1/10\n",
      "\u001b[1m1875/1875\u001b[0m \u001b[32m━━━━━━━━━━━━━━━━━━━━\u001b[0m\u001b[37m\u001b[0m \u001b[1m5s\u001b[0m 2ms/step - accuracy: 0.7220 - loss: 1.0612 - val_accuracy: 0.9041 - val_loss: 0.3556\n",
      "Epoch 2/10\n",
      "\u001b[1m1875/1875\u001b[0m \u001b[32m━━━━━━━━━━━━━━━━━━━━\u001b[0m\u001b[37m\u001b[0m \u001b[1m4s\u001b[0m 2ms/step - accuracy: 0.9005 - loss: 0.3607 - val_accuracy: 0.9181 - val_loss: 0.2910\n",
      "Epoch 3/10\n",
      "\u001b[1m1875/1875\u001b[0m \u001b[32m━━━━━━━━━━━━━━━━━━━━\u001b[0m\u001b[37m\u001b[0m \u001b[1m4s\u001b[0m 2ms/step - accuracy: 0.9151 - loss: 0.3001 - val_accuracy: 0.9264 - val_loss: 0.2606\n",
      "Epoch 4/10\n",
      "\u001b[1m1875/1875\u001b[0m \u001b[32m━━━━━━━━━━━━━━━━━━━━\u001b[0m\u001b[37m\u001b[0m \u001b[1m4s\u001b[0m 2ms/step - accuracy: 0.9267 - loss: 0.2601 - val_accuracy: 0.9339 - val_loss: 0.2362\n",
      "Epoch 5/10\n",
      "\u001b[1m1875/1875\u001b[0m \u001b[32m━━━━━━━━━━━━━━━━━━━━\u001b[0m\u001b[37m\u001b[0m \u001b[1m4s\u001b[0m 2ms/step - accuracy: 0.9338 - loss: 0.2383 - val_accuracy: 0.9373 - val_loss: 0.2182\n",
      "Epoch 6/10\n",
      "\u001b[1m1875/1875\u001b[0m \u001b[32m━━━━━━━━━━━━━━━━━━━━\u001b[0m\u001b[37m\u001b[0m \u001b[1m4s\u001b[0m 2ms/step - accuracy: 0.9395 - loss: 0.2202 - val_accuracy: 0.9417 - val_loss: 0.2013\n",
      "Epoch 7/10\n",
      "\u001b[1m1875/1875\u001b[0m \u001b[32m━━━━━━━━━━━━━━━━━━━━\u001b[0m\u001b[37m\u001b[0m \u001b[1m4s\u001b[0m 2ms/step - accuracy: 0.9461 - loss: 0.1980 - val_accuracy: 0.9456 - val_loss: 0.1905\n",
      "Epoch 8/10\n",
      "\u001b[1m1875/1875\u001b[0m \u001b[32m━━━━━━━━━━━━━━━━━━━━\u001b[0m\u001b[37m\u001b[0m \u001b[1m4s\u001b[0m 2ms/step - accuracy: 0.9466 - loss: 0.1942 - val_accuracy: 0.9490 - val_loss: 0.1787\n",
      "Epoch 9/10\n",
      "\u001b[1m1875/1875\u001b[0m \u001b[32m━━━━━━━━━━━━━━━━━━━━\u001b[0m\u001b[37m\u001b[0m \u001b[1m4s\u001b[0m 2ms/step - accuracy: 0.9512 - loss: 0.1744 - val_accuracy: 0.9507 - val_loss: 0.1708\n",
      "Epoch 10/10\n",
      "\u001b[1m1875/1875\u001b[0m \u001b[32m━━━━━━━━━━━━━━━━━━━━\u001b[0m\u001b[37m\u001b[0m \u001b[1m4s\u001b[0m 2ms/step - accuracy: 0.9526 - loss: 0.1744 - val_accuracy: 0.9530 - val_loss: 0.1629\n"
     ]
    },
    {
     "data": {
      "image/png": "[encoded data removed]",
      "text/plain": [
       "<Figure size 640x480 with 1 Axes>"
      ]
     },
     "metadata": {},
     "output_type": "display_data"
    }
   ],
   "source": [
    "'''\n",
    "3.\tTrain a Model with Different Optimizers\n",
    "Task: Train MNIST Model with Adam & SGD\n",
    "1.\tLoad the MNIST dataset.\n",
    "2.\tTrain two models: One with Adam and another with SGD.\n",
    "3.\tCompare training and validation accuracy trends.\n",
    "Expected Output:\n",
    "•\tAccuracy plots comparing Adam vs. SGD performance.\n",
    "\n",
    "'''\n",
    "\n",
    "import tensorflow as tf\n",
    "from tensorflow import keras\n",
    "import matplotlib.pyplot as plt\n",
    "\n",
    "# Load MNIST dataset\n",
    "(x_train, y_train), (x_test, y_test) = keras.datasets.mnist.load_data()\n",
    "\n",
    "# Normalize pixel values\n",
    "x_train, x_test = x_train / 255.0, x_test / 255.0\n",
    "\n",
    "# Define a simple neural network model\n",
    "def create_model():\n",
    "    model = keras.Sequential([\n",
    "        keras.layers.Flatten(input_shape=(28, 28)),\n",
    "        keras.layers.Dense(128, activation='relu'),\n",
    "        keras.layers.Dense(10, activation='softmax')\n",
    "    ])\n",
    "    return model\n",
    "\n",
    "# Train and evaluate the model with different optimizers\n",
    "def train_model(optimizer_name, optimizer):\n",
    "    model = create_model()\n",
    "    model.compile(optimizer=optimizer,\n",
    "                  loss='sparse_categorical_crossentropy',\n",
    "                  metrics=['accuracy'])\n",
    "    history = model.fit(x_train, y_train, epochs=10, validation_data=(x_test, y_test), verbose=1)\n",
    "    return history\n",
    "\n",
    "# Train models with Adam and SGD\n",
    "history_adam = train_model(\"Adam\", keras.optimizers.Adam())\n",
    "history_sgd = train_model(\"SGD\", keras.optimizers.SGD())\n",
    "\n",
    "# Plot accuracy comparison\n",
    "plt.plot(history_adam.history['val_accuracy'], label='Adam Validation Accuracy')\n",
    "plt.plot(history_sgd.history['val_accuracy'], label='SGD Validation Accuracy')\n",
    "plt.xlabel('Epochs')\n",
    "plt.ylabel('Accuracy')\n",
    "plt.legend()\n",
    "plt.title('Adam vs. SGD Performance')\n",
    "plt.show()\n"
   ]
  },
  {
   "cell_type": "code",
   "execution_count": 8,
   "id": "ed75ec1e",
   "metadata": {
    "execution": {
     "iopub.execute_input": "2025-02-18T04:08:45.559332Z",
     "iopub.status.busy": "2025-02-18T04:08:45.558987Z",
     "iopub.status.idle": "2025-02-18T04:09:52.921400Z",
     "shell.execute_reply": "2025-02-18T04:09:52.920163Z"
    },
    "papermill": {
     "duration": 67.471499,
     "end_time": "2025-02-18T04:09:52.923522",
     "exception": false,
     "start_time": "2025-02-18T04:08:45.452023",
     "status": "completed"
    },
    "tags": []
   },
   "outputs": [
    {
     "name": "stdout",
     "output_type": "stream",
     "text": [
      "Epoch 1/5\n",
      "\u001b[1m1875/1875\u001b[0m \u001b[32m━━━━━━━━━━━━━━━━━━━━\u001b[0m\u001b[37m\u001b[0m \u001b[1m8s\u001b[0m 4ms/step - accuracy: 0.8834 - loss: 0.4272 - val_accuracy: 0.9636 - val_loss: 0.1255\n",
      "Epoch 2/5\n",
      "\u001b[1m1875/1875\u001b[0m \u001b[32m━━━━━━━━━━━━━━━━━━━━\u001b[0m\u001b[37m\u001b[0m \u001b[1m6s\u001b[0m 3ms/step - accuracy: 0.9646 - loss: 0.1172 - val_accuracy: 0.9714 - val_loss: 0.0922\n",
      "Epoch 3/5\n",
      "\u001b[1m1875/1875\u001b[0m \u001b[32m━━━━━━━━━━━━━━━━━━━━\u001b[0m\u001b[37m\u001b[0m \u001b[1m6s\u001b[0m 3ms/step - accuracy: 0.9771 - loss: 0.0788 - val_accuracy: 0.9753 - val_loss: 0.0822\n",
      "Epoch 4/5\n",
      "\u001b[1m1875/1875\u001b[0m \u001b[32m━━━━━━━━━━━━━━━━━━━━\u001b[0m\u001b[37m\u001b[0m \u001b[1m6s\u001b[0m 3ms/step - accuracy: 0.9837 - loss: 0.0549 - val_accuracy: 0.9748 - val_loss: 0.0851\n",
      "Epoch 5/5\n",
      "\u001b[1m1875/1875\u001b[0m \u001b[32m━━━━━━━━━━━━━━━━━━━━\u001b[0m\u001b[37m\u001b[0m \u001b[1m6s\u001b[0m 3ms/step - accuracy: 0.9868 - loss: 0.0436 - val_accuracy: 0.9744 - val_loss: 0.0856\n"
     ]
    },
    {
     "name": "stderr",
     "output_type": "stream",
     "text": [
      "/usr/local/lib/python3.10/dist-packages/keras/src/layers/reshaping/flatten.py:37: UserWarning: Do not pass an `input_shape`/`input_dim` argument to a layer. When using Sequential models, prefer using an `Input(shape)` object as the first layer in the model instead.\n",
      "  super().__init__(**kwargs)\n"
     ]
    },
    {
     "name": "stdout",
     "output_type": "stream",
     "text": [
      "Epoch 1/5\n",
      "\u001b[1m1875/1875\u001b[0m \u001b[32m━━━━━━━━━━━━━━━━━━━━\u001b[0m\u001b[37m\u001b[0m \u001b[1m6s\u001b[0m 3ms/step - accuracy: 0.7335 - loss: 1.0186 - val_accuracy: 0.9035 - val_loss: 0.3575\n",
      "Epoch 2/5\n",
      "\u001b[1m1875/1875\u001b[0m \u001b[32m━━━━━━━━━━━━━━━━━━━━\u001b[0m\u001b[37m\u001b[0m \u001b[1m5s\u001b[0m 3ms/step - accuracy: 0.8986 - loss: 0.3587 - val_accuracy: 0.9172 - val_loss: 0.2956\n",
      "Epoch 3/5\n",
      "\u001b[1m1875/1875\u001b[0m \u001b[32m━━━━━━━━━━━━━━━━━━━━\u001b[0m\u001b[37m\u001b[0m \u001b[1m5s\u001b[0m 3ms/step - accuracy: 0.9172 - loss: 0.2944 - val_accuracy: 0.9264 - val_loss: 0.2635\n",
      "Epoch 4/5\n",
      "\u001b[1m1875/1875\u001b[0m \u001b[32m━━━━━━━━━━━━━━━━━━━━\u001b[0m\u001b[37m\u001b[0m \u001b[1m5s\u001b[0m 3ms/step - accuracy: 0.9240 - loss: 0.2691 - val_accuracy: 0.9326 - val_loss: 0.2397\n",
      "Epoch 5/5\n",
      "\u001b[1m1875/1875\u001b[0m \u001b[32m━━━━━━━━━━━━━━━━━━━━\u001b[0m\u001b[37m\u001b[0m \u001b[1m5s\u001b[0m 3ms/step - accuracy: 0.9331 - loss: 0.2379 - val_accuracy: 0.9377 - val_loss: 0.2214\n"
     ]
    },
    {
     "data": {
      "image/png": "[encoded data removed]",
      "text/plain": [
       "<Figure size 640x480 with 1 Axes>"
      ]
     },
     "metadata": {},
     "output_type": "display_data"
    },
    {
     "name": "stdout",
     "output_type": "stream",
     "text": [
      "Run the following command in the terminal to launch TensorBoard:\n",
      "tensorboard --logdir=logs/fit/\n"
     ]
    },
    {
     "data": {
      "application/javascript": [
       "\n",
       "        (async () => {\n",
       "            const url = new URL(await google.colab.kernel.proxyPort(6006, {'cache': true}));\n",
       "            url.searchParams.set('tensorboardColab', 'true');\n",
       "            const iframe = document.createElement('iframe');\n",
       "            iframe.src = url;\n",
       "            iframe.setAttribute('width', '100%');\n",
       "            iframe.setAttribute('height', '800');\n",
       "            iframe.setAttribute('frameborder', 0);\n",
       "            document.body.appendChild(iframe);\n",
       "        })();\n",
       "    "
      ],
      "text/plain": [
       "<IPython.core.display.Javascript object>"
      ]
     },
     "metadata": {},
     "output_type": "display_data"
    }
   ],
   "source": [
    "'''\n",
    "4.\tTrain a Neural Network and Log to TensorBoard\n",
    "Task Description\n",
    "1.\tLoad the MNIST dataset and preprocess it.\n",
    "2.\tTrain a simple neural network model and enable TensorBoard logging.\n",
    "3.\tLaunch TensorBoard and analyze loss and accuracy trends.\n",
    "Expected Outcome:\n",
    "•\tThe model should train for 5 epochs and store logs in the \"logs/fit/\" directory.\n",
    "•\tYou should be able to visualize training vs. validation accuracy and loss in TensorBoard.\n",
    "\n",
    "'''\n",
    "\n",
    "import tensorflow as tf\n",
    "from tensorflow import keras\n",
    "import matplotlib.pyplot as plt\n",
    "import datetime\n",
    "\n",
    "# Load MNIST dataset\n",
    "(x_train, y_train), (x_test, y_test) = keras.datasets.mnist.load_data()\n",
    "\n",
    "# Normalize pixel values\n",
    "x_train, x_test = x_train / 255.0, x_test / 255.0\n",
    "\n",
    "# Define a simple neural network model\n",
    "def create_model():\n",
    "    model = keras.Sequential([\n",
    "        keras.layers.Flatten(input_shape=(28, 28)),\n",
    "        keras.layers.Dense(128, activation='relu'),\n",
    "        keras.layers.Dense(10, activation='softmax')\n",
    "    ])\n",
    "    return model\n",
    "\n",
    "# Setup TensorBoard logging\n",
    "log_dir = \"logs/fit/\" + datetime.datetime.now().strftime(\"%Y%m%d-%H%M%S\")\n",
    "tensorboard_callback = keras.callbacks.TensorBoard(log_dir=log_dir, histogram_freq=1)\n",
    "\n",
    "# Train and evaluate the model with different optimizers\n",
    "def train_model(optimizer_name, optimizer):\n",
    "    model = create_model()\n",
    "    model.compile(optimizer=optimizer,\n",
    "                  loss='sparse_categorical_crossentropy',\n",
    "                  metrics=['accuracy'])\n",
    "    history = model.fit(x_train, y_train, epochs=5, validation_data=(x_test, y_test), \n",
    "                        callbacks=[tensorboard_callback], verbose=1)\n",
    "    return history\n",
    "\n",
    "# Train models with Adam and SGD\n",
    "history_adam = train_model(\"Adam\", keras.optimizers.Adam())\n",
    "history_sgd = train_model(\"SGD\", keras.optimizers.SGD())\n",
    "\n",
    "# Plot accuracy comparison\n",
    "plt.plot(history_adam.history['val_accuracy'], label='Adam Validation Accuracy')\n",
    "plt.plot(history_sgd.history['val_accuracy'], label='SGD Validation Accuracy')\n",
    "plt.xlabel('Epochs')\n",
    "plt.ylabel('Accuracy')\n",
    "plt.legend()\n",
    "plt.title('Adam vs. SGD Performance')\n",
    "plt.show()\n",
    "\n",
    "# Instructions to launch TensorBoard\n",
    "print(\"Run the following command in the terminal to launch TensorBoard:\")\n",
    "print(\"tensorboard --logdir=logs/fit/\")\n",
    "\n",
    "%load_ext tensorboard\n",
    "%tensorboard --logdir logs/fit/\n"
   ]
  },
  {
   "cell_type": "code",
   "execution_count": null,
   "id": "0528c770",
   "metadata": {
    "execution": {
     "iopub.execute_input": "2025-02-18T03:52:44.558666Z",
     "iopub.status.busy": "2025-02-18T03:52:44.558314Z",
     "iopub.status.idle": "2025-02-18T03:52:44.569525Z",
     "shell.execute_reply": "2025-02-18T03:52:44.568306Z",
     "shell.execute_reply.started": "2025-02-18T03:52:44.558637Z"
    },
    "papermill": {
     "duration": 0.159981,
     "end_time": "2025-02-18T04:09:53.241753",
     "exception": false,
     "start_time": "2025-02-18T04:09:53.081772",
     "status": "completed"
    },
    "tags": []
   },
   "outputs": [],
   "source": []
  },
  {
   "cell_type": "code",
   "execution_count": 9,
   "id": "36ca3a37",
   "metadata": {
    "execution": {
     "iopub.execute_input": "2025-02-18T04:09:53.555966Z",
     "iopub.status.busy": "2025-02-18T04:09:53.555609Z",
     "iopub.status.idle": "2025-02-18T04:09:53.562019Z",
     "shell.execute_reply": "2025-02-18T04:09:53.560882Z"
    },
    "papermill": {
     "duration": 0.165661,
     "end_time": "2025-02-18T04:09:53.563748",
     "exception": false,
     "start_time": "2025-02-18T04:09:53.398087",
     "status": "completed"
    },
    "tags": []
   },
   "outputs": [
    {
     "data": {
      "text/plain": [
       "'\\nQuestions to Answer:\\n1.\\tWhat patterns do you observe in the training and validation accuracy curves?\\nAnswer: \\nTraining accuracy typically increases steadily, while validation accuracy may \\nfluctuate. If both rise together, the model is learning effectively, but if \\ntraining accuracy is much higher than validation accuracy, it suggests overfitting, \\nmeaning the model memorizes the training data but struggles with unseen data.\\n\\n2.\\tHow can you use TensorBoard to detect overfitting?\\nAnswer: Overfitting can be identified by observing training and validation loss curves if \\nvalidation loss starts increasing while training loss keeps decreasing, the model is \\noverfitting. Additionally, a large gap between training and validation accuracy indicates \\npoor generalization. TensorBoard’s histograms and weight distributions also help in \\ndiagnosing overfitting.\\n\\n3.\\tWhat happens when you increase the number of epochs?\\nAnswer: Initially, increasing epochs improves model performance, but after a certain point, \\noverfitting occurs causing validation accuracy to stagnate or decrease. Training loss may \\ncontinue decreasing but the model fails to generalize well. \\nEarly stopping can prevent \\nunnecessary training and help maintain optimal performance.\\n\\n'"
      ]
     },
     "execution_count": 9,
     "metadata": {},
     "output_type": "execute_result"
    }
   ],
   "source": [
    "'''\n",
    "Questions to Answer:\n",
    "1.\tWhat patterns do you observe in the training and validation accuracy curves?\n",
    "Answer: \n",
    "Training accuracy typically increases steadily, while validation accuracy may \n",
    "fluctuate. If both rise together, the model is learning effectively, but if \n",
    "training accuracy is much higher than validation accuracy, it suggests overfitting, \n",
    "meaning the model memorizes the training data but struggles with unseen data.\n",
    "\n",
    "2.\tHow can you use TensorBoard to detect overfitting?\n",
    "Answer: Overfitting can be identified by observing training and validation loss curves if \n",
    "validation loss starts increasing while training loss keeps decreasing, the model is \n",
    "overfitting. Additionally, a large gap between training and validation accuracy indicates \n",
    "poor generalization. TensorBoard’s histograms and weight distributions also help in \n",
    "diagnosing overfitting.\n",
    "\n",
    "3.\tWhat happens when you increase the number of epochs?\n",
    "Answer: Initially, increasing epochs improves model performance, but after a certain point, \n",
    "overfitting occurs causing validation accuracy to stagnate or decrease. Training loss may \n",
    "continue decreasing but the model fails to generalize well. \n",
    "Early stopping can prevent \n",
    "unnecessary training and help maintain optimal performance.\n",
    "\n",
    "'''"
   ]
  }
 ],
 "metadata": {
  "kaggle": {
   "accelerator": "none",
   "dataSources": [],
   "dockerImageVersionId": 30886,
   "isGpuEnabled": false,
   "isInternetEnabled": true,
   "language": "python",
   "sourceType": "notebook"
  },
  "kernelspec": {
   "display_name": "Python 3",
   "language": "python",
   "name": "python3"
  },
  "language_info": {
   "codemirror_mode": {
    "name": "ipython",
    "version": 3
   },
   "file_extension": ".py",
   "mimetype": "text/x-python",
   "name": "python",
   "nbconvert_exporter": "python",
   "pygments_lexer": "ipython3",
   "version": "3.10.12"
  },
  "papermill": {
   "default_parameters": {},
   "duration": 188.729659,
   "end_time": "2025-02-18T04:09:55.747133",
   "environment_variables": {},
   "exception": null,
   "input_path": "__notebook__.ipynb",
   "output_path": "__notebook__.ipynb",
   "parameters": {},
   "start_time": "2025-02-18T04:06:47.017474",
   "version": "2.6.0"
  }
 },
 "nbformat": 4,
 "nbformat_minor": 5
}
