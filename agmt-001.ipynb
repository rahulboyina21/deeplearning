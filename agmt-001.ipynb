{
 "cells": [
  {
   "cell_type": "code",
   "execution_count": 1,
   "id": "cbffaffe",
   "metadata": {
    "_cell_guid": "b1076dfc-b9ad-4769-8c92-a6c4dae69d19",
    "_uuid": "8f2839f25d086af736a60e9eeb907d3b93b6e0e5",
    "execution": {
     "iopub.execute_input": "2025-02-14T03:05:36.603532Z",
     "iopub.status.busy": "2025-02-14T03:05:36.603101Z",
     "iopub.status.idle": "2025-02-14T03:05:36.610710Z",
     "shell.execute_reply": "2025-02-14T03:05:36.609777Z"
    },
    "papermill": {
     "duration": 0.012359,
     "end_time": "2025-02-14T03:05:36.612187",
     "exception": false,
     "start_time": "2025-02-14T03:05:36.599828",
     "status": "completed"
    },
    "tags": []
   },
   "outputs": [
    {
     "data": {
      "text/plain": [
       "'\\n1.\\tTensor Manipulations & Reshaping\\nTask: Tensor Reshaping & Operations\\n1.\\tCreate a random tensor of shape (4, 6).\\n2.\\tFind its rank and shape using TensorFlow functions.\\n3.\\tReshape it into (2, 3, 4) and transpose it to (3, 2, 4).\\n4.\\tBroadcast a smaller tensor (1, 4) to match the larger tensor and add them.\\n5.\\tExplain how broadcasting works in TensorFlow.\\nExpected Output: \\n•\\tPrint rank and shape of the tensor before and after reshaping/transposing.\\n'"
      ]
     },
     "execution_count": 1,
     "metadata": {},
     "output_type": "execute_result"
    }
   ],
   "source": [
    "'''\n",
    "1.\tTensor Manipulations & Reshaping\n",
    "Task: Tensor Reshaping & Operations\n",
    "1.\tCreate a random tensor of shape (4, 6).\n",
    "2.\tFind its rank and shape using TensorFlow functions.\n",
    "3.\tReshape it into (2, 3, 4) and transpose it to (3, 2, 4).\n",
    "4.\tBroadcast a smaller tensor (1, 4) to match the larger tensor and add them.\n",
    "5.\tExplain how broadcasting works in TensorFlow.\n",
    "Expected Output: \n",
    "•\tPrint rank and shape of the tensor before and after reshaping/transposing.\n",
    "'''"
   ]
  },
  {
   "cell_type": "code",
   "execution_count": 2,
   "id": "4a6dadaf",
   "metadata": {
    "execution": {
     "iopub.execute_input": "2025-02-14T03:05:36.617402Z",
     "iopub.status.busy": "2025-02-14T03:05:36.617047Z",
     "iopub.status.idle": "2025-02-14T03:05:51.690261Z",
     "shell.execute_reply": "2025-02-14T03:05:51.689101Z"
    },
    "papermill": {
     "duration": 15.077469,
     "end_time": "2025-02-14T03:05:51.691994",
     "exception": false,
     "start_time": "2025-02-14T03:05:36.614525",
     "status": "completed"
    },
    "tags": []
   },
   "outputs": [],
   "source": [
    "import tensorflow as tf"
   ]
  },
  {
   "cell_type": "code",
   "execution_count": 3,
   "id": "39d02534",
   "metadata": {
    "execution": {
     "iopub.execute_input": "2025-02-14T03:05:51.696999Z",
     "iopub.status.busy": "2025-02-14T03:05:51.696524Z",
     "iopub.status.idle": "2025-02-14T03:05:51.755246Z",
     "shell.execute_reply": "2025-02-14T03:05:51.754232Z"
    },
    "papermill": {
     "duration": 0.06423,
     "end_time": "2025-02-14T03:05:51.758253",
     "exception": false,
     "start_time": "2025-02-14T03:05:51.694023",
     "status": "completed"
    },
    "tags": []
   },
   "outputs": [
    {
     "name": "stdout",
     "output_type": "stream",
     "text": [
      "Variable \n",
      " <tf.Variable 'Variable:0' shape=(4, 6) dtype=int32, numpy=\n",
      "array([[ 1,  2,  3,  4,  5,  6],\n",
      "       [ 7,  8,  9, 10, 11, 12],\n",
      "       [13, 14, 15, 16, 17, 18],\n",
      "       [19, 20, 21, 22, 23, 24]], dtype=int32)>\n",
      "Rank =  tf.Tensor(2, shape=(), dtype=int32)  ,Shape =  (4, 6)\n",
      "Before Reshap =  <tf.Variable 'Variable:0' shape=(4, 6) dtype=int32, numpy=\n",
      "array([[ 1,  2,  3,  4,  5,  6],\n",
      "       [ 7,  8,  9, 10, 11, 12],\n",
      "       [13, 14, 15, 16, 17, 18],\n",
      "       [19, 20, 21, 22, 23, 24]], dtype=int32)>\n",
      "After Reshape =  tf.Tensor(\n",
      "[[[ 1  2  3  4]\n",
      "  [ 5  6  7  8]\n",
      "  [ 9 10 11 12]]\n",
      "\n",
      " [[13 14 15 16]\n",
      "  [17 18 19 20]\n",
      "  [21 22 23 24]]], shape=(2, 3, 4), dtype=int32)\n",
      "Before Transposed =  tf.Tensor(\n",
      "[[[ 1  2  3  4]\n",
      "  [ 5  6  7  8]\n",
      "  [ 9 10 11 12]]\n",
      "\n",
      " [[13 14 15 16]\n",
      "  [17 18 19 20]\n",
      "  [21 22 23 24]]], shape=(2, 3, 4), dtype=int32)\n",
      "After Transposed =  tf.Tensor(\n",
      "[[[ 1  2  3  4]\n",
      "  [13 14 15 16]]\n",
      "\n",
      " [[ 5  6  7  8]\n",
      "  [17 18 19 20]]\n",
      "\n",
      " [[ 9 10 11 12]\n",
      "  [21 22 23 24]]], shape=(3, 2, 4), dtype=int32)\n",
      "Broadcasting =  tf.Tensor(\n",
      "[[[101 101 101 101]\n",
      "  [113 113 113 113]]\n",
      "\n",
      " [[105 105 105 105]\n",
      "  [117 117 117 117]]\n",
      "\n",
      " [[109 109 109 109]\n",
      "  [121 121 121 121]]], shape=(3, 2, 4), dtype=int32)\n"
     ]
    }
   ],
   "source": [
    "#1.\tCreate a random tensor of shape (4, 6).\n",
    "val = tf.Variable([[1,2,3,4,5,6],[7,8,9,10,11,12],[13,14,15,16,17,18],[19,20,21,22,23,24]])\n",
    "print(\"Variable \\n\",val)\n",
    "'''\n",
    "That's how we create the varibale tensors we should also give dtype but i am \n",
    "not giving it as code is capable of hadling by it's own considering the type of data\n",
    "'''\n",
    "#2.Find its rank and shape using TensorFlow functions.\n",
    "rk = tf.rank(val)\n",
    "'''\n",
    "Rank = number of dimensions of the tensor\n",
    "'''\n",
    "sp=val.shape\n",
    "# shape = number of elements in each dimension \n",
    "\n",
    "print(\"Rank = \",rk,\" ,Shape = \",sp)\n",
    "\n",
    "#3. Reshape it into (2, 3, 4) and transpose it to (3, 2, 4).\n",
    "print(\"Before Reshap = \",val)\n",
    "val=tf.reshape(val,(2,3,4))\n",
    "print(\"After Reshape = \",val)\n",
    "\n",
    "print(\"Before Transposed = \",val)\n",
    "val=tf.transpose(val,perm=[1, 0, 2])\n",
    "print(\"After Transposed = \",val)\n",
    "\n",
    "#4.\tBroadcast a smaller tensor (1, 4) to match the larger tensor and add them.\n",
    "\n",
    "val2=tf.constant([100,99,98,97])\n",
    "\n",
    "valans=tf.add(val,val2)\n",
    "\n",
    "print(\"Broadcasting = \",valans)\n",
    "\n"
   ]
  },
  {
   "cell_type": "code",
   "execution_count": 4,
   "id": "f59874d3",
   "metadata": {
    "execution": {
     "iopub.execute_input": "2025-02-14T03:05:51.763986Z",
     "iopub.status.busy": "2025-02-14T03:05:51.763687Z",
     "iopub.status.idle": "2025-02-14T03:05:51.768354Z",
     "shell.execute_reply": "2025-02-14T03:05:51.767319Z"
    },
    "papermill": {
     "duration": 0.008991,
     "end_time": "2025-02-14T03:05:51.770100",
     "exception": false,
     "start_time": "2025-02-14T03:05:51.761109",
     "status": "completed"
    },
    "tags": []
   },
   "outputs": [
    {
     "data": {
      "text/plain": [
       "'\\nIt helps the tensor flow to do any arthamethic opertions of different dimensions \\nto perfrom with one another without the need to create a new copy all together and \\nadjust the shape thus saving resources and complexity to reduce or expand the tensors \\nto perfrom the operations.\\n\\n'"
      ]
     },
     "execution_count": 4,
     "metadata": {},
     "output_type": "execute_result"
    }
   ],
   "source": [
    "#Explain how broadcasting works in TensorFlow.\n",
    "'''\n",
    "It helps the tensor flow to do any arthamethic opertions of different dimensions \n",
    "to perfrom with one another without the need to create a new copy all together and \n",
    "adjust the shape thus saving resources and complexity to reduce or expand the tensors \n",
    "to perfrom the operations.\n",
    "\n",
    "'''"
   ]
  },
  {
   "cell_type": "code",
   "execution_count": 5,
   "id": "87e77a4d",
   "metadata": {
    "execution": {
     "iopub.execute_input": "2025-02-14T03:05:51.777074Z",
     "iopub.status.busy": "2025-02-14T03:05:51.776706Z",
     "iopub.status.idle": "2025-02-14T03:05:51.782971Z",
     "shell.execute_reply": "2025-02-14T03:05:51.781662Z"
    },
    "papermill": {
     "duration": 0.011856,
     "end_time": "2025-02-14T03:05:51.784673",
     "exception": false,
     "start_time": "2025-02-14T03:05:51.772817",
     "status": "completed"
    },
    "tags": []
   },
   "outputs": [
    {
     "data": {
      "text/plain": [
       "'\\n\\n        2.\\tLoss Functions & Hyperparameter Tuning\\n        Task: Implement and Compare Loss Functions\\n        1.\\tDefine true values (y_true) and model predictions (y_pred).\\n        2.\\tCompute Mean Squared Error (MSE) and Categorical Cross-Entropy (CCE) losses.\\n        3.\\tModify predictions slightly and check how loss values change.\\n        4.\\tPlot loss function values using Matplotlib.\\n        Expected Output:\\n        •\\tLoss values printed for different predictions.\\n        •\\tBar chart comparing MSE and Cross-Entropy Loss.\\n\\n'"
      ]
     },
     "execution_count": 5,
     "metadata": {},
     "output_type": "execute_result"
    }
   ],
   "source": [
    "'''\n",
    "\n",
    "        2.\tLoss Functions & Hyperparameter Tuning\n",
    "        Task: Implement and Compare Loss Functions\n",
    "        1.\tDefine true values (y_true) and model predictions (y_pred).\n",
    "        2.\tCompute Mean Squared Error (MSE) and Categorical Cross-Entropy (CCE) losses.\n",
    "        3.\tModify predictions slightly and check how loss values change.\n",
    "        4.\tPlot loss function values using Matplotlib.\n",
    "        Expected Output:\n",
    "        •\tLoss values printed for different predictions.\n",
    "        •\tBar chart comparing MSE and Cross-Entropy Loss.\n",
    "\n",
    "'''"
   ]
  },
  {
   "cell_type": "code",
   "execution_count": 6,
   "id": "f2123eb9",
   "metadata": {
    "execution": {
     "iopub.execute_input": "2025-02-14T03:05:51.790573Z",
     "iopub.status.busy": "2025-02-14T03:05:51.790222Z",
     "iopub.status.idle": "2025-02-14T03:05:53.373116Z",
     "shell.execute_reply": "2025-02-14T03:05:53.371872Z"
    },
    "papermill": {
     "duration": 1.587467,
     "end_time": "2025-02-14T03:05:53.374532",
     "exception": false,
     "start_time": "2025-02-14T03:05:51.787065",
     "status": "completed"
    },
    "tags": []
   },
   "outputs": [
    {
     "name": "stdout",
     "output_type": "stream",
     "text": [
      "0.11666666666666668 0.6299999999999999\n",
      "tf.Tensor(6.070675, shape=(), dtype=float32) tf.Tensor(6.1777725, shape=(), dtype=float32)\n"
     ]
    },
    {
     "data": {
      "image/png": "[encoded data removed]",
      "text/plain": [
       "<Figure size 800x500 with 1 Axes>"
      ]
     },
     "metadata": {},
     "output_type": "display_data"
    }
   ],
   "source": [
    "import numpy as np\n",
    "import tensorflow as tf\n",
    "from tensorflow.keras.losses import CategoricalCrossentropy\n",
    "from sklearn.metrics import mean_squared_error as mse\n",
    "import matplotlib.pyplot as plt\n",
    "\n",
    "# Let's create the data \n",
    "\n",
    "y_true=np.array([1,2,3])\n",
    "\n",
    "y_pred1=np.array([0.9,1.7,2.5])\n",
    "\n",
    "y_pred2=np.array([0.5,1.0,2.2])\n",
    "\n",
    "mse1=mse(y_true,y_pred1)\n",
    "\n",
    "mse2=mse(y_true,y_pred2)\n",
    "\n",
    "print(mse1,mse2)\n",
    "\n",
    "t1=tf.constant(y_true)\n",
    "t2=tf.constant(y_pred1)\n",
    "t3=tf.constant(y_pred2)\n",
    "\n",
    "cce = CategoricalCrossentropy()\n",
    "\n",
    "cce1=cce(t1,t2)\n",
    "cce2=cce(t1,t3)\n",
    "\n",
    "print(cce1,cce2)\n",
    "\n",
    "# Plot Loss Function Values\n",
    "labels = ['MSE - y_pred1', 'MSE - y_pred2', 'CCE - y_pred1', 'CCE - y_pred2']\n",
    "loss_values = [mse1, mse2, cce1, cce2]\n",
    "\n",
    "plt.figure(figsize=(8, 5))\n",
    "plt.bar(labels, loss_values, color=['blue', 'cyan', 'red', 'orange'])\n",
    "plt.xlabel(\"Loss Types\")\n",
    "plt.ylabel(\"Loss Value\")\n",
    "plt.title(\"Comparison of MSE and Cross-Entropy Loss\")\n",
    "plt.xticks(rotation=20)\n",
    "plt.show()\n",
    "\n",
    "\n"
   ]
  },
  {
   "cell_type": "code",
   "execution_count": null,
   "id": "a14b41e8",
   "metadata": {
    "papermill": {
     "duration": 0.002192,
     "end_time": "2025-02-14T03:05:53.379672",
     "exception": false,
     "start_time": "2025-02-14T03:05:53.377480",
     "status": "completed"
    },
    "tags": []
   },
   "outputs": [],
   "source": []
  }
 ],
 "metadata": {
  "kaggle": {
   "accelerator": "none",
   "dataSources": [],
   "dockerImageVersionId": 30886,
   "isGpuEnabled": false,
   "isInternetEnabled": true,
   "language": "python",
   "sourceType": "notebook"
  },
  "kernelspec": {
   "display_name": "Python 3",
   "language": "python",
   "name": "python3"
  },
  "language_info": {
   "codemirror_mode": {
    "name": "ipython",
    "version": 3
   },
   "file_extension": ".py",
   "mimetype": "text/x-python",
   "name": "python",
   "nbconvert_exporter": "python",
   "pygments_lexer": "ipython3",
   "version": "3.10.12"
  },
  "papermill": {
   "default_parameters": {},
   "duration": 21.495186,
   "end_time": "2025-02-14T03:05:55.751098",
   "environment_variables": {},
   "exception": null,
   "input_path": "__notebook__.ipynb",
   "output_path": "__notebook__.ipynb",
   "parameters": {},
   "start_time": "2025-02-14T03:05:34.255912",
   "version": "2.6.0"
  }
 },
 "nbformat": 4,
 "nbformat_minor": 5
}
