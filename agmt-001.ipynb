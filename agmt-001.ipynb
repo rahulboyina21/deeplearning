{
 "cells": [
  {
   "cell_type": "code",
   "execution_count": 1,
   "id": "d16e6d0a",
   "metadata": {
    "_cell_guid": "b1076dfc-b9ad-4769-8c92-a6c4dae69d19",
    "_uuid": "8f2839f25d086af736a60e9eeb907d3b93b6e0e5",
    "execution": {
     "iopub.execute_input": "2025-02-14T03:17:51.002782Z",
     "iopub.status.busy": "2025-02-14T03:17:51.002375Z",
     "iopub.status.idle": "2025-02-14T03:17:51.010321Z",
     "shell.execute_reply": "2025-02-14T03:17:51.009382Z"
    },
    "papermill": {
     "duration": 0.014347,
     "end_time": "2025-02-14T03:17:51.011929",
     "exception": false,
     "start_time": "2025-02-14T03:17:50.997582",
     "status": "completed"
    },
    "tags": []
   },
   "outputs": [
    {
     "data": {
      "text/plain": [
       "'\\n1.\\tTensor Manipulations & Reshaping\\nTask: Tensor Reshaping & Operations\\n1.\\tCreate a random tensor of shape (4, 6).\\n2.\\tFind its rank and shape using TensorFlow functions.\\n3.\\tReshape it into (2, 3, 4) and transpose it to (3, 2, 4).\\n4.\\tBroadcast a smaller tensor (1, 4) to match the larger tensor and add them.\\n5.\\tExplain how broadcasting works in TensorFlow.\\nExpected Output: \\n•\\tPrint rank and shape of the tensor before and after reshaping/transposing.\\n'"
      ]
     },
     "execution_count": 1,
     "metadata": {},
     "output_type": "execute_result"
    }
   ],
   "source": [
    "'''\n",
    "1.\tTensor Manipulations & Reshaping\n",
    "Task: Tensor Reshaping & Operations\n",
    "1.\tCreate a random tensor of shape (4, 6).\n",
    "2.\tFind its rank and shape using TensorFlow functions.\n",
    "3.\tReshape it into (2, 3, 4) and transpose it to (3, 2, 4).\n",
    "4.\tBroadcast a smaller tensor (1, 4) to match the larger tensor and add them.\n",
    "5.\tExplain how broadcasting works in TensorFlow.\n",
    "Expected Output: \n",
    "•\tPrint rank and shape of the tensor before and after reshaping/transposing.\n",
    "'''"
   ]
  },
  {
   "cell_type": "code",
   "execution_count": 2,
   "id": "b63171e7",
   "metadata": {
    "execution": {
     "iopub.execute_input": "2025-02-14T03:17:51.019109Z",
     "iopub.status.busy": "2025-02-14T03:17:51.018754Z",
     "iopub.status.idle": "2025-02-14T03:18:06.721506Z",
     "shell.execute_reply": "2025-02-14T03:18:06.720678Z"
    },
    "papermill": {
     "duration": 15.708195,
     "end_time": "2025-02-14T03:18:06.723358",
     "exception": false,
     "start_time": "2025-02-14T03:17:51.015163",
     "status": "completed"
    },
    "tags": []
   },
   "outputs": [],
   "source": [
    "import tensorflow as tf"
   ]
  },
  {
   "cell_type": "code",
   "execution_count": 3,
   "id": "aa7b8a8c",
   "metadata": {
    "execution": {
     "iopub.execute_input": "2025-02-14T03:18:06.730413Z",
     "iopub.status.busy": "2025-02-14T03:18:06.729781Z",
     "iopub.status.idle": "2025-02-14T03:18:06.795321Z",
     "shell.execute_reply": "2025-02-14T03:18:06.794059Z"
    },
    "papermill": {
     "duration": 0.070825,
     "end_time": "2025-02-14T03:18:06.797177",
     "exception": false,
     "start_time": "2025-02-14T03:18:06.726352",
     "status": "completed"
    },
    "tags": []
   },
   "outputs": [
    {
     "name": "stdout",
     "output_type": "stream",
     "text": [
      "Variable \n",
      " <tf.Variable 'Variable:0' shape=(4, 6) dtype=int32, numpy=\n",
      "array([[ 1,  2,  3,  4,  5,  6],\n",
      "       [ 7,  8,  9, 10, 11, 12],\n",
      "       [13, 14, 15, 16, 17, 18],\n",
      "       [19, 20, 21, 22, 23, 24]], dtype=int32)>\n",
      "Rank =  tf.Tensor(2, shape=(), dtype=int32)  ,Shape =  (4, 6)\n",
      "Before Reshap =  <tf.Variable 'Variable:0' shape=(4, 6) dtype=int32, numpy=\n",
      "array([[ 1,  2,  3,  4,  5,  6],\n",
      "       [ 7,  8,  9, 10, 11, 12],\n",
      "       [13, 14, 15, 16, 17, 18],\n",
      "       [19, 20, 21, 22, 23, 24]], dtype=int32)>\n",
      "After Reshape =  tf.Tensor(\n",
      "[[[ 1  2  3  4]\n",
      "  [ 5  6  7  8]\n",
      "  [ 9 10 11 12]]\n",
      "\n",
      " [[13 14 15 16]\n",
      "  [17 18 19 20]\n",
      "  [21 22 23 24]]], shape=(2, 3, 4), dtype=int32)\n",
      "Before Transposed =  tf.Tensor(\n",
      "[[[ 1  2  3  4]\n",
      "  [ 5  6  7  8]\n",
      "  [ 9 10 11 12]]\n",
      "\n",
      " [[13 14 15 16]\n",
      "  [17 18 19 20]\n",
      "  [21 22 23 24]]], shape=(2, 3, 4), dtype=int32)\n",
      "After Transposed =  tf.Tensor(\n",
      "[[[ 1  2  3  4]\n",
      "  [13 14 15 16]]\n",
      "\n",
      " [[ 5  6  7  8]\n",
      "  [17 18 19 20]]\n",
      "\n",
      " [[ 9 10 11 12]\n",
      "  [21 22 23 24]]], shape=(3, 2, 4), dtype=int32)\n",
      "Broadcasting =  tf.Tensor(\n",
      "[[[101 101 101 101]\n",
      "  [113 113 113 113]]\n",
      "\n",
      " [[105 105 105 105]\n",
      "  [117 117 117 117]]\n",
      "\n",
      " [[109 109 109 109]\n",
      "  [121 121 121 121]]], shape=(3, 2, 4), dtype=int32)\n"
     ]
    }
   ],
   "source": [
    "#1.\tCreate a random tensor of shape (4, 6).\n",
    "val = tf.Variable([[1,2,3,4,5,6],[7,8,9,10,11,12],[13,14,15,16,17,18],[19,20,21,22,23,24]])\n",
    "print(\"Variable \\n\",val)\n",
    "'''\n",
    "That's how we create the varibale tensors we should also give dtype but i am \n",
    "not giving it as code is capable of hadling by it's own considering the type of data\n",
    "'''\n",
    "#2.Find its rank and shape using TensorFlow functions.\n",
    "rk = tf.rank(val)\n",
    "'''\n",
    "Rank = number of dimensions of the tensor\n",
    "'''\n",
    "sp=val.shape\n",
    "# shape = number of elements in each dimension \n",
    "\n",
    "print(\"Rank = \",rk,\" ,Shape = \",sp)\n",
    "\n",
    "#3. Reshape it into (2, 3, 4) and transpose it to (3, 2, 4).\n",
    "print(\"Before Reshap = \",val)\n",
    "val=tf.reshape(val,(2,3,4))\n",
    "print(\"After Reshape = \",val)\n",
    "\n",
    "print(\"Before Transposed = \",val)\n",
    "val=tf.transpose(val,perm=[1, 0, 2])\n",
    "print(\"After Transposed = \",val)\n",
    "\n",
    "#4.\tBroadcast a smaller tensor (1, 4) to match the larger tensor and add them.\n",
    "\n",
    "val2=tf.constant([100,99,98,97])\n",
    "\n",
    "valans=tf.add(val,val2)\n",
    "\n",
    "print(\"Broadcasting = \",valans)\n",
    "\n"
   ]
  },
  {
   "cell_type": "code",
   "execution_count": 4,
   "id": "957561c1",
   "metadata": {
    "execution": {
     "iopub.execute_input": "2025-02-14T03:18:06.804468Z",
     "iopub.status.busy": "2025-02-14T03:18:06.804011Z",
     "iopub.status.idle": "2025-02-14T03:18:06.809766Z",
     "shell.execute_reply": "2025-02-14T03:18:06.808762Z"
    },
    "papermill": {
     "duration": 0.011243,
     "end_time": "2025-02-14T03:18:06.811502",
     "exception": false,
     "start_time": "2025-02-14T03:18:06.800259",
     "status": "completed"
    },
    "tags": []
   },
   "outputs": [
    {
     "data": {
      "text/plain": [
       "'\\nIt helps the tensor flow to do any arthamethic opertions of different dimensions \\nto perfrom with one another without the need to create a new copy all together and \\nadjust the shape thus saving resources and complexity to reduce or expand the tensors \\nto perfrom the operations.\\n\\n'"
      ]
     },
     "execution_count": 4,
     "metadata": {},
     "output_type": "execute_result"
    }
   ],
   "source": [
    "#Explain how broadcasting works in TensorFlow.\n",
    "'''\n",
    "It helps the tensor flow to do any arthamethic opertions of different dimensions \n",
    "to perfrom with one another without the need to create a new copy all together and \n",
    "adjust the shape thus saving resources and complexity to reduce or expand the tensors \n",
    "to perfrom the operations.\n",
    "\n",
    "'''"
   ]
  },
  {
   "cell_type": "code",
   "execution_count": 5,
   "id": "e0b9348a",
   "metadata": {
    "execution": {
     "iopub.execute_input": "2025-02-14T03:18:06.819236Z",
     "iopub.status.busy": "2025-02-14T03:18:06.818845Z",
     "iopub.status.idle": "2025-02-14T03:18:06.825359Z",
     "shell.execute_reply": "2025-02-14T03:18:06.823946Z"
    },
    "papermill": {
     "duration": 0.012324,
     "end_time": "2025-02-14T03:18:06.827130",
     "exception": false,
     "start_time": "2025-02-14T03:18:06.814806",
     "status": "completed"
    },
    "tags": []
   },
   "outputs": [
    {
     "data": {
      "text/plain": [
       "'\\n\\n        2.\\tLoss Functions & Hyperparameter Tuning\\n        Task: Implement and Compare Loss Functions\\n        1.\\tDefine true values (y_true) and model predictions (y_pred).\\n        2.\\tCompute Mean Squared Error (MSE) and Categorical Cross-Entropy (CCE) losses.\\n        3.\\tModify predictions slightly and check how loss values change.\\n        4.\\tPlot loss function values using Matplotlib.\\n        Expected Output:\\n        •\\tLoss values printed for different predictions.\\n        •\\tBar chart comparing MSE and Cross-Entropy Loss.\\n\\n'"
      ]
     },
     "execution_count": 5,
     "metadata": {},
     "output_type": "execute_result"
    }
   ],
   "source": [
    "'''\n",
    "\n",
    "        2.\tLoss Functions & Hyperparameter Tuning\n",
    "        Task: Implement and Compare Loss Functions\n",
    "        1.\tDefine true values (y_true) and model predictions (y_pred).\n",
    "        2.\tCompute Mean Squared Error (MSE) and Categorical Cross-Entropy (CCE) losses.\n",
    "        3.\tModify predictions slightly and check how loss values change.\n",
    "        4.\tPlot loss function values using Matplotlib.\n",
    "        Expected Output:\n",
    "        •\tLoss values printed for different predictions.\n",
    "        •\tBar chart comparing MSE and Cross-Entropy Loss.\n",
    "\n",
    "'''"
   ]
  },
  {
   "cell_type": "code",
   "execution_count": 6,
   "id": "a61ed320",
   "metadata": {
    "execution": {
     "iopub.execute_input": "2025-02-14T03:18:06.835140Z",
     "iopub.status.busy": "2025-02-14T03:18:06.834759Z",
     "iopub.status.idle": "2025-02-14T03:18:08.450372Z",
     "shell.execute_reply": "2025-02-14T03:18:08.449261Z"
    },
    "papermill": {
     "duration": 1.621548,
     "end_time": "2025-02-14T03:18:08.452034",
     "exception": false,
     "start_time": "2025-02-14T03:18:06.830486",
     "status": "completed"
    },
    "tags": []
   },
   "outputs": [
    {
     "name": "stdout",
     "output_type": "stream",
     "text": [
      "0.11666666666666668 0.6299999999999999\n",
      "tf.Tensor(6.070675, shape=(), dtype=float32) tf.Tensor(6.1777725, shape=(), dtype=float32)\n"
     ]
    },
    {
     "data": {
      "image/png": "[encoded data removed]",
      "text/plain": [
       "<Figure size 1000x1000 with 1 Axes>"
      ]
     },
     "metadata": {},
     "output_type": "display_data"
    }
   ],
   "source": [
    "import numpy as np\n",
    "import tensorflow as tf\n",
    "from tensorflow.keras.losses import CategoricalCrossentropy\n",
    "from sklearn.metrics import mean_squared_error as mse\n",
    "import matplotlib.pyplot as plt\n",
    "\n",
    "# Let's create the data \n",
    "\n",
    "y_true=np.array([1,2,3])\n",
    "\n",
    "y_pred1=np.array([0.9,1.7,2.5])\n",
    "\n",
    "y_pred2=np.array([0.5,1.0,2.2])\n",
    "\n",
    "mse1=mse(y_true,y_pred1)\n",
    "\n",
    "mse2=mse(y_true,y_pred2)\n",
    "\n",
    "print(mse1,mse2)\n",
    "\n",
    "t1=tf.constant(y_true)\n",
    "t2=tf.constant(y_pred1)\n",
    "t3=tf.constant(y_pred2)\n",
    "\n",
    "cce = CategoricalCrossentropy()\n",
    "\n",
    "cce1=cce(t1,t2)\n",
    "cce2=cce(t1,t3)\n",
    "\n",
    "print(cce1,cce2)\n",
    "\n",
    "# Plot Loss Function Values\n",
    "labels = ['MSE - y_pred1', 'MSE - y_pred2', 'CCE - y_pred1', 'CCE - y_pred2']\n",
    "loss_values = [mse1, mse2, cce1, cce2]\n",
    "\n",
    "plt.figure(figsize=(10, 10))\n",
    "plt.bar(labels, loss_values, color=['blue', 'cyan', 'red', 'orange'])\n",
    "plt.xlabel(\"Loss Types\")\n",
    "plt.ylabel(\"Loss Value\")\n",
    "plt.title(\"Comparison of MSE and Cross-Entropy Loss\")\n",
    "plt.show()\n",
    "\n",
    "\n"
   ]
  },
  {
   "cell_type": "code",
   "execution_count": 7,
   "id": "e2e84a59",
   "metadata": {
    "execution": {
     "iopub.execute_input": "2025-02-14T03:18:08.461392Z",
     "iopub.status.busy": "2025-02-14T03:18:08.460642Z",
     "iopub.status.idle": "2025-02-14T03:18:08.466909Z",
     "shell.execute_reply": "2025-02-14T03:18:08.465986Z"
    },
    "papermill": {
     "duration": 0.01269,
     "end_time": "2025-02-14T03:18:08.468572",
     "exception": false,
     "start_time": "2025-02-14T03:18:08.455882",
     "status": "completed"
    },
    "tags": []
   },
   "outputs": [
    {
     "data": {
      "text/plain": [
       "'\\n3.\\tTrain a Model with Different Optimizers\\nTask: Train MNIST Model with Adam & SGD\\n1.\\tLoad the MNIST dataset.\\n2.\\tTrain two models: One with Adam and another with SGD.\\n3.\\tCompare training and validation accuracy trends.\\nExpected Output:\\n•\\tAccuracy plots comparing Adam vs. SGD performance.\\n\\n'"
      ]
     },
     "execution_count": 7,
     "metadata": {},
     "output_type": "execute_result"
    }
   ],
   "source": [
    "'''\n",
    "3.\tTrain a Model with Different Optimizers\n",
    "Task: Train MNIST Model with Adam & SGD\n",
    "1.\tLoad the MNIST dataset.\n",
    "2.\tTrain two models: One with Adam and another with SGD.\n",
    "3.\tCompare training and validation accuracy trends.\n",
    "Expected Output:\n",
    "•\tAccuracy plots comparing Adam vs. SGD performance.\n",
    "\n",
    "'''"
   ]
  },
  {
   "cell_type": "code",
   "execution_count": 8,
   "id": "d35dc725",
   "metadata": {
    "execution": {
     "iopub.execute_input": "2025-02-14T03:18:08.478070Z",
     "iopub.status.busy": "2025-02-14T03:18:08.477703Z",
     "iopub.status.idle": "2025-02-14T03:18:08.483436Z",
     "shell.execute_reply": "2025-02-14T03:18:08.482433Z"
    },
    "papermill": {
     "duration": 0.012468,
     "end_time": "2025-02-14T03:18:08.485122",
     "exception": false,
     "start_time": "2025-02-14T03:18:08.472654",
     "status": "completed"
    },
    "tags": []
   },
   "outputs": [
    {
     "data": {
      "text/plain": [
       "'\\n4.\\tTrain a Neural Network and Log to TensorBoard\\nTask Description\\n1.\\tLoad the MNIST dataset and preprocess it.\\n2.\\tTrain a simple neural network model and enable TensorBoard logging.\\n3.\\tLaunch TensorBoard and analyze loss and accuracy trends.\\nExpected Outcome:\\n•\\tThe model should train for 5 epochs and store logs in the \"logs/fit/\" directory.\\n•\\tYou should be able to visualize training vs. validation accuracy and loss in TensorBoard.\\n\\n'"
      ]
     },
     "execution_count": 8,
     "metadata": {},
     "output_type": "execute_result"
    }
   ],
   "source": [
    "'''\n",
    "4.\tTrain a Neural Network and Log to TensorBoard\n",
    "Task Description\n",
    "1.\tLoad the MNIST dataset and preprocess it.\n",
    "2.\tTrain a simple neural network model and enable TensorBoard logging.\n",
    "3.\tLaunch TensorBoard and analyze loss and accuracy trends.\n",
    "Expected Outcome:\n",
    "•\tThe model should train for 5 epochs and store logs in the \"logs/fit/\" directory.\n",
    "•\tYou should be able to visualize training vs. validation accuracy and loss in TensorBoard.\n",
    "\n",
    "'''"
   ]
  },
  {
   "cell_type": "code",
   "execution_count": 9,
   "id": "ae38c1df",
   "metadata": {
    "execution": {
     "iopub.execute_input": "2025-02-14T03:18:08.501178Z",
     "iopub.status.busy": "2025-02-14T03:18:08.500784Z",
     "iopub.status.idle": "2025-02-14T03:18:08.506683Z",
     "shell.execute_reply": "2025-02-14T03:18:08.505715Z"
    },
    "papermill": {
     "duration": 0.013099,
     "end_time": "2025-02-14T03:18:08.508137",
     "exception": false,
     "start_time": "2025-02-14T03:18:08.495038",
     "status": "completed"
    },
    "tags": []
   },
   "outputs": [
    {
     "data": {
      "text/plain": [
       "'\\nQuestions to Answer:\\n1.\\tWhat patterns do you observe in the training and validation accuracy curves?\\n2.\\tHow can you use TensorBoard to detect overfitting?\\n3.\\tWhat happens when you increase the number of epochs?\\n\\n\\n'"
      ]
     },
     "execution_count": 9,
     "metadata": {},
     "output_type": "execute_result"
    }
   ],
   "source": [
    "'''\n",
    "Questions to Answer:\n",
    "1.\tWhat patterns do you observe in the training and validation accuracy curves?\n",
    "2.\tHow can you use TensorBoard to detect overfitting?\n",
    "3.\tWhat happens when you increase the number of epochs?\n",
    "\n",
    "\n",
    "'''"
   ]
  }
 ],
 "metadata": {
  "kaggle": {
   "accelerator": "none",
   "dataSources": [],
   "dockerImageVersionId": 30886,
   "isGpuEnabled": false,
   "isInternetEnabled": true,
   "language": "python",
   "sourceType": "notebook"
  },
  "kernelspec": {
   "display_name": "Python 3",
   "language": "python",
   "name": "python3"
  },
  "language_info": {
   "codemirror_mode": {
    "name": "ipython",
    "version": 3
   },
   "file_extension": ".py",
   "mimetype": "text/x-python",
   "name": "python",
   "nbconvert_exporter": "python",
   "pygments_lexer": "ipython3",
   "version": "3.10.12"
  },
  "papermill": {
   "default_parameters": {},
   "duration": 22.472645,
   "end_time": "2025-02-14T03:18:10.137470",
   "environment_variables": {},
   "exception": null,
   "input_path": "__notebook__.ipynb",
   "output_path": "__notebook__.ipynb",
   "parameters": {},
   "start_time": "2025-02-14T03:17:47.664825",
   "version": "2.6.0"
  }
 },
 "nbformat": 4,
 "nbformat_minor": 5
}
